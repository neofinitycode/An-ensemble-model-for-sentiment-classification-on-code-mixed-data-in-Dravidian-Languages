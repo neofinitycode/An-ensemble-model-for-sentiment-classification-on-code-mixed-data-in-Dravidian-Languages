{
  "nbformat": 4,
  "nbformat_minor": 0,
  "metadata": {
    "colab": {
      "provenance": []
    },
    "kernelspec": {
      "display_name": "Python 3",
      "name": "python3"
    },
    "language_info": {
      "name": "python"
    }
  },
  "cells": [
    {
      "cell_type": "code",
      "metadata": {
        "id": "wEyEcB2A4dmA"
      },
      "source": [
        "import pandas as pd\n",
        "import re\n",
        "import nltk\n",
        "import string\n",
        "from nltk.corpus import stopwords\n",
        "import spacy\n",
        "\n",
        "from sklearn.metrics import accuracy_score,classification_report, f1_score\n",
        "from sklearn.model_selection import cross_val_score\n",
        "from sklearn.model_selection import train_test_split"
      ],
      "execution_count": null,
      "outputs": []
    },
    {
      "cell_type": "code",
      "metadata": {
        "id": "5uS6kc4z_8qa"
      },
      "source": [
        "nlp = spacy.load('en', disable=['parser', 'ner'])"
      ],
      "execution_count": null,
      "outputs": []
    },
    {
      "cell_type": "code",
      "metadata": {
        "colab": {
          "base_uri": "https://localhost:8080/"
        },
        "id": "wGgxWSNw42U2",
        "outputId": "ab29cadd-c193-4be3-fcb8-df3e7a7538e6"
      },
      "source": [
        "# DATA CLEANING AND PREPARATION #\n",
        "class Utils(object):\n",
        "\n",
        "    def cleanText(self, text):\n",
        "        review = re.sub(r\"^https://t.co/[a-zA-Z0-9]*\\s\", \" \", str(text))\n",
        "        review = re.sub(r\"\\([\\s\\S]*\\)\", \" \", str(review))\n",
        "        review = re.sub(r\"\\s+https://t.co/[a-zA-Z0-9]*\\s\", \" \", str(review))\n",
        "        review = re.sub(r\"\\s+https://t.co/[a-zA-Z0-9]*$\", \" \", str(review))\n",
        "        review = review.lower()\n",
        "        review = re.sub(r\"that's\", \"that is\", str(review))\n",
        "        review = re.sub(r\"there's\", \"there is\", str(review))\n",
        "        review = re.sub(r\"what's\", \"what is\", str(review))\n",
        "        review = re.sub(r\"where's\", \"where is\", str(review))\n",
        "        review = re.sub(r\"it's\", \"it is\", str(review))\n",
        "        review = re.sub(r\"who's\", \"who is\", str(review))\n",
        "        review = re.sub(r\"i'm\", \"i am\", str(review))\n",
        "        review = re.sub(r\"she's\", \"she is\", str(review))\n",
        "        review = re.sub(r\"he's\", \"he is\", str(review))\n",
        "        review = re.sub(r\"they're\", \"they are\", str(review))\n",
        "        review = re.sub(r\"who're\", \"who are\", str(review))\n",
        "        review = re.sub(r\"ain't\", \"am not\", str(review))\n",
        "        review = re.sub(r\"wouldn't\", \"would not\", str(review))\n",
        "        review = re.sub(r\"shouldn't\", \"should not\", str(review))\n",
        "        review = re.sub(r\"can't\", \"can not\", str(review))\n",
        "        review = re.sub(r\"couldn't\", \"could not\", str(review))\n",
        "        review = re.sub(r\"won't\", \"will not\", str(review))\n",
        "        review = re.sub(r\" pm \", \" \", str(review))\n",
        "        review = re.sub(r\" am \", \" \", str(review))\n",
        "        review = re.sub(r'[^\\[\\]]+(?=\\])', \" \", str(review))\n",
        "        review = re.sub(r\"\\W\", \" \", str(review))\n",
        "        review = re.sub(r\"\\d\", \" \", str(review))\n",
        "        review = re.sub(r\"\\s+[a-z]\\s+\", \" \", str(review))\n",
        "        review = re.sub(r\"\\s+[a-z]$\", \" \", str(review))\n",
        "        review = re.sub(r\"^[a-z]\\s+\", \" \", str(review))\n",
        "        review = re.sub(r\"\\s+\", \" \", str(review))\n",
        "        return review\n",
        "\n",
        "    def remove_punc(self, text):\n",
        "        table = str.maketrans(\"\", \"\", string.punctuation)\n",
        "        return text.translate(table)\n",
        "\n",
        "    def remove_emoticon(self, text):\n",
        "        emoji_pattern = re.compile(\"[\"\n",
        "                           u\"\\U0001F600-\\U0001F64F\"  # emoticons\n",
        "                           u\"\\U0001F300-\\U0001F5FF\"  # symbols & pictographs\n",
        "                           u\"\\U0001F680-\\U0001F6FF\"  # transport & map symbols\n",
        "                           u\"\\U0001F1E0-\\U0001F1FF\"  # flags \n",
        "                           u\"\\U00002702-\\U000027B0\"\n",
        "                           u\"\\U000024C2-\\U0001F251\"\n",
        "                           \"]+\", flags=re.UNICODE)\n",
        "        return emoji_pattern.sub(r'', text)\n",
        "\n",
        "\n",
        "    \n",
        "    def lemmatization(self, text):\n",
        "        doc = nlp(text)\n",
        "        return \" \".join([token.lemma_ for token in doc])\n",
        "\n",
        "    nltk.download('stopwords')\n",
        "    def remove_stops(self, text):\n",
        "        stop_words = set(nltk.corpus.stopwords.words('english'))\n",
        "        text = [word.lower() for word in text.split() if word.lower() not in stop_words]\n",
        "        return \" \".join(text)\n",
        "\n",
        "\n",
        "    def readData1(self, path, inputColumnIndex=0, outputColumnIndex=1):\n",
        "        df = pd.read_csv(path, error_bad_lines=False, sep='\\t')\n",
        "        X = df.iloc[:, inputColumnIndex].values\n",
        "        y = df.iloc[:, outputColumnIndex].values\n",
        "        return X,y\n",
        "    \n",
        "    def readData2(self, path, inputColumnIndex=1, outputColumnIndex=2):\n",
        "        df = pd.read_csv(path, error_bad_lines=False, sep='\\t')\n",
        "        X = df.iloc[:, inputColumnIndex].values\n",
        "        y = df.iloc[:, outputColumnIndex].values\n",
        "        return X,y\n",
        "    \n",
        "    def draw_prediction_results(self, y_pred, y_test, my_tags, method):\n",
        "        print('accuracy of ' + method + ': %s' % accuracy_score(y_pred, y_test))\n",
        "        print(classification_report(y_test, y_pred, target_names=my_tags, digits = 6))\n",
        "    \n",
        "    def create_csv(self, y_pred, y_test, classifier):\n",
        "        report = classification_report(y_test, y_pred)\n",
        "        lines = report.split('\\n')\n",
        "        line = lines[-2].split()\n",
        "        line.remove('weighted')\n",
        "        line[0] = classifier\n",
        "        df = pd.DataFrame(line).transpose()\n",
        "        csv_data = df.to_csv(index=False)\n",
        "        df.to_csv('Malayalam.csv',  mode='a', header=False, index=False)\n",
        "        \n",
        "    \n",
        "    def crossValidation(self, prediction, input, output, k=5):\n",
        "        scores = cross_val_score(prediction, input,output, cv=k)\n",
        "        print(\"Accuracy of Cross Validation Mean: %0.6f (+/- %0.6f)\" % (scores.mean(), scores.std() * 2))"
      ],
      "execution_count": null,
      "outputs": [
        {
          "output_type": "stream",
          "name": "stdout",
          "text": [
            "[nltk_data] Downloading package stopwords to /root/nltk_data...\n",
            "[nltk_data]   Unzipping corpora/stopwords.zip.\n"
          ]
        }
      ]
    },
    {
      "cell_type": "code",
      "metadata": {
        "colab": {
          "base_uri": "https://localhost:8080/"
        },
        "id": "727sZupe6Gxg",
        "outputId": "fe9f876b-07ba-4882-8d27-80e9bdcc7e97"
      },
      "source": [
        "# FUNCTION CALL FOR DATA CLEANING AND PREPARATION #\n",
        "utils = Utils()\n",
        "X1,y_train=utils.readData1('Mal_sentiment_full_train.tsv')\n",
        "\n",
        "ourTags =['not-malayalam', 'unknown_state', 'Positive', 'Mixed_feelings', 'Negative']\n",
        "X_train=[]\n",
        "\n",
        "for i in range(0, len(X1)):\n",
        "    t = utils.cleanText(X1[i])\n",
        "    t = utils.remove_emoticon(t)\n",
        "    t = utils.remove_punc(t)\n",
        "    t = utils.remove_stops(t)\n",
        "    t = utils.lemmatization(t)\n",
        "    X_train.append(t)\n",
        "\n",
        "print(X_train[:10])\n",
        "#X_train, X_test, y_train, y_test = train_test_split(corpus, y, test_size=0.3, random_state=0)"
      ],
      "execution_count": null,
      "outputs": [
        {
          "output_type": "stream",
          "name": "stdout",
          "text": [
            "['sunny chechi fan evide like adichu power kaniku', 'angane july month ile ende aadyathe leave njan angu edukuva july nu', 'ഏട ടന റ പ ത യ പടത ത ന വ ണ ട ക ത ത ര ക ക ന നവർ ല ക ബട ടൺ അട ച ച പ ള ക ക', 'ഇന ല ല ട ടന റ വ ട ട ത ടങ ങ ൻ പ ക ന ന മ ൻ ക ല collection recordukal ഭ ത ച ച ര ക ക', 'trailer powli oru raksha illa pakshea padam irangattea veruthea degrade venda padam irangittu paraya', 'malayalam padam thanne aanu vere level', 'history mammukka kattawaiting support love mammukka', 'yaaru andha mech le penne', 'ആമയ വ ള ളത ത ൽ മ ക ക ക ല ല ന ന ഇനമ', 'ജ ഷ രണ ട കല പ ച ച ആണ ല ല സ ഭവ എന ത യ ല പ ള ക ക']\n"
          ]
        }
      ]
    },
    {
      "cell_type": "code",
      "metadata": {
        "colab": {
          "base_uri": "https://localhost:8080/",
          "height": 350
        },
        "id": "9Tq1ZnL2pUMI",
        "outputId": "7043b1d2-574d-42fe-af12-bfdff7ab9961"
      },
      "source": [
        "# BAR PLOT VISUALIZATION\n",
        "import numpy as np \n",
        "import matplotlib.pyplot as plt\n",
        "\n",
        "data_spread = np.unique(y_train, return_counts=True)\n",
        "print(np.unique(y_train, return_counts=True))\n",
        "print(len(X_train))\n",
        "\n",
        "x_labels = data_spread[0]\n",
        "y_labels = data_spread[1]\n",
        "plt.bar(x_labels, y_labels, color=['#F4D03F'])\n",
        "plt.title('Malayalam')"
      ],
      "execution_count": null,
      "outputs": [
        {
          "output_type": "stream",
          "name": "stdout",
          "text": [
            "(array(['Mixed_feelings', 'Negative', 'Positive', 'not-malayalam',\n",
            "       'unknown_state'], dtype=object), array([ 926, 2105, 6421, 1157, 5279]))\n",
            "15888\n"
          ]
        },
        {
          "output_type": "execute_result",
          "data": {
            "text/plain": [
              "Text(0.5, 1.0, 'Malayalam')"
            ]
          },
          "metadata": {},
          "execution_count": 6
        },
        {
          "output_type": "display_data",
          "data": {
            "image/png": "[encoded data removed]",
            "text/plain": [
              "<Figure size 432x288 with 1 Axes>"
            ]
          },
          "metadata": {
            "needs_background": "light"
          }
        }
      ]
    },
    {
      "cell_type": "code",
      "metadata": {
        "id": "kPsszKRGni1Z"
      },
      "source": [
        "# FUNCTION CALL FOR DATA CLEANING AND PREPARATION #\n",
        "utils = Utils()\n",
        "X2,y_test=utils.readData2('Mal_sentiment_full_test_withlabels.tsv')\n",
        "\n",
        "X_test=[]\n",
        "\n",
        "for i in range(0, len(X2)):\n",
        "    t = utils.cleanText(X2[i])\n",
        "    t = utils.remove_emoticon(t)\n",
        "    t = utils.remove_punc(t)\n",
        "    t = utils.remove_stops(t)\n",
        "    t = utils.lemmatization(t)\n",
        "    X_test.append(t)\n",
        "#print(corpus)"
      ],
      "execution_count": null,
      "outputs": []
    },
    {
      "cell_type": "code",
      "metadata": {
        "id": "rqPVciOg-K5c"
      },
      "source": [
        "from sklearn.pipeline import Pipeline\n",
        "from sklearn.feature_extraction.text import TfidfTransformer, CountVectorizer\n",
        "\n",
        "from sklearn.linear_model import LogisticRegression\n",
        "from sklearn.naive_bayes import MultinomialNB\n",
        "from sklearn.svm import LinearSVC, SVC\n",
        "from sklearn.ensemble import RandomForestClassifier\n",
        "from sklearn.neighbors import KNeighborsClassifier"
      ],
      "execution_count": null,
      "outputs": []
    },
    {
      "cell_type": "code",
      "metadata": {
        "id": "yhcrBCgJLDub"
      },
      "source": [
        "line = ['', 'precision', 'recall', 'f1-score',  'support']\n",
        "df = pd.DataFrame(line).transpose()\n",
        "csv_data = df.to_csv(index=False)\n",
        "df.to_csv('Malayalam.csv',  mode='a', header=False, index=False)"
      ],
      "execution_count": null,
      "outputs": []
    },
    {
      "cell_type": "code",
      "metadata": {
        "colab": {
          "base_uri": "https://localhost:8080/"
        },
        "id": "ODSXTCHsLd8Q",
        "outputId": "e702a821-30f1-49b5-c21f-5bcf728327b7"
      },
      "source": [
        "# LOGISTIC REGRESSION #\n",
        "lrp = Pipeline([('vect', CountVectorizer(min_df=3, max_df=0.2,analyzer='word', ngram_range=(1, 3))),\n",
        "                ('tfidf', TfidfTransformer()),\n",
        "                ('lr', LogisticRegression(max_iter=1000))\n",
        "                ])\n",
        "lrp.fit(X_train, y_train)\n",
        "y_pred = lrp.predict(X_test)\n",
        "\n",
        "# prediction results\n",
        "#utils.draw_prediction_results(y_pred,y_test,ourTags,\"Logistic Regression\")\n",
        "\n",
        "utils.create_csv(y_pred, y_test, 'LR')\n",
        "\n",
        "#prediction results\n",
        "utils.draw_prediction_results(y_pred,y_test,ourTags,\"Logistic Regression\")"
      ],
      "execution_count": null,
      "outputs": [
        {
          "output_type": "stream",
          "name": "stdout",
          "text": [
            "accuracy of Logistic Regression: 0.6605504587155964\n",
            "                precision    recall  f1-score   support\n",
            "\n",
            " not-malayalam   0.647059  0.164179  0.261905       134\n",
            " unknown_state   0.655844  0.391473  0.490291       258\n",
            "      Positive   0.656566  0.833333  0.734463       780\n",
            "Mixed_feelings   0.717172  0.482993  0.577236       147\n",
            "      Negative   0.659854  0.702955  0.680723       643\n",
            "\n",
            "      accuracy                       0.660550      1962\n",
            "     macro avg   0.667299  0.514987  0.548924      1962\n",
            "  weighted avg   0.661440  0.660550  0.640688      1962\n",
            "\n"
          ]
        }
      ]
    },
    {
      "cell_type": "code",
      "metadata": {
        "colab": {
          "base_uri": "https://localhost:8080/"
        },
        "id": "OGB5YURAThfx",
        "outputId": "0d1e3bec-7d71-4a5a-adbb-c19fa374c666"
      },
      "source": [
        "# MULTINOMIAL NAIVE BAYES #\n",
        "multinomial_naive_bayes = Pipeline([('vect', CountVectorizer(min_df=3, max_df=0.2, analyzer='word', ngram_range=(1, 3),)),\n",
        "                        ('tfidf', TfidfTransformer()),\n",
        "                        ('multinomial_naive_bayes',\n",
        "                         MultinomialNB())\n",
        "                        ])\n",
        "multinomial_naive_bayes.fit(X_train, y_train)\n",
        "y_pred = multinomial_naive_bayes.predict(X_test)\n",
        "\n",
        "utils.create_csv(y_pred, y_test, 'MNB')\n",
        "\n",
        "# prediction results\n",
        "utils.draw_prediction_results(y_pred,y_test,ourTags,\"Multinomial Naive Bayes\")"
      ],
      "execution_count": null,
      "outputs": [
        {
          "output_type": "stream",
          "name": "stdout",
          "text": [
            "accuracy of Multinomial Naive Bayes: 0.5958205912334352\n",
            "                precision    recall  f1-score   support\n",
            "\n",
            " not-malayalam   0.666667  0.014925  0.029197       134\n",
            " unknown_state   0.731343  0.189922  0.301538       258\n",
            "      Positive   0.559738  0.876923  0.683317       780\n",
            "Mixed_feelings   0.862745  0.299320  0.444444       147\n",
            "      Negative   0.630048  0.606532  0.618067       643\n",
            "\n",
            "      accuracy                       0.595821      1962\n",
            "     macro avg   0.690108  0.397525  0.415313      1962\n",
            "  weighted avg   0.635352  0.595821  0.549157      1962\n",
            "\n"
          ]
        }
      ]
    },
    {
      "cell_type": "code",
      "metadata": {
        "colab": {
          "base_uri": "https://localhost:8080/"
        },
        "id": "22IIDKIOwTaK",
        "outputId": "90826c27-f503-42a2-dad4-ef249854ad63"
      },
      "source": [
        "# LINEAR SVM #\n",
        "linear_svm = Pipeline([('vect', CountVectorizer(min_df=3, max_df=0.2, analyzer='word', ngram_range=(1, 3),)),\n",
        "                        ('tfidf', TfidfTransformer()),\n",
        "                        ('linear_svc',\n",
        "                        SVC(kernel='linear'))\n",
        "                        ])\n",
        "linear_svm.fit(X_train, y_train)\n",
        "y_pred = linear_svm.predict(X_test)\n",
        "\n",
        "utils.create_csv(y_pred, y_test, 'L-SVM')\n",
        "\n",
        "# prediction results\n",
        "utils.draw_prediction_results(y_pred,y_test,ourTags,\"Linear SVM\")"
      ],
      "execution_count": null,
      "outputs": [
        {
          "output_type": "stream",
          "name": "stdout",
          "text": [
            "accuracy of Linear SVM: 0.6610601427115188\n",
            "                precision    recall  f1-score   support\n",
            "\n",
            " not-malayalam   0.620000  0.231343  0.336957       134\n",
            " unknown_state   0.626437  0.422481  0.504630       258\n",
            "      Positive   0.666310  0.798718  0.726531       780\n",
            "Mixed_feelings   0.673913  0.632653  0.652632       147\n",
            "      Negative   0.663158  0.685848  0.674312       643\n",
            "\n",
            "      accuracy                       0.661060      1962\n",
            "     macro avg   0.649964  0.554209  0.579012      1962\n",
            "  weighted avg   0.657441  0.661060  0.648094      1962\n",
            "\n"
          ]
        }
      ]
    },
    {
      "cell_type": "code",
      "metadata": {
        "colab": {
          "base_uri": "https://localhost:8080/"
        },
        "id": "o1cYONgUxcBy",
        "outputId": "b09a2bb4-0cd9-496e-a38f-8731c530393a"
      },
      "source": [
        "# RBF SVM #\n",
        "rbf_svm = Pipeline([('vect', CountVectorizer(min_df=3, max_df=0.2, analyzer='word', ngram_range=(1, 3),)),\n",
        "                        ('tfidf', TfidfTransformer()),\n",
        "                        ('rbf_svc',\n",
        "                        SVC(kernel='rbf', gamma=1))\n",
        "                        ])\n",
        "rbf_svm.fit(X_train, y_train)\n",
        "y_pred = rbf_svm.predict(X_test)\n",
        "\n",
        "utils.create_csv(y_pred, y_test, 'R-SVM')\n",
        "\n",
        "# prediction results\n",
        "utils.draw_prediction_results(y_pred,y_test,ourTags,\"RBF SVM\")"
      ],
      "execution_count": null,
      "outputs": [
        {
          "output_type": "stream",
          "name": "stdout",
          "text": [
            "accuracy of RBF SVM: 0.6580020387359837\n",
            "                precision    recall  f1-score   support\n",
            "\n",
            " not-malayalam   0.806452  0.186567  0.303030       134\n",
            " unknown_state   0.703125  0.348837  0.466321       258\n",
            "      Positive   0.637795  0.830769  0.721604       780\n",
            "Mixed_feelings   0.754717  0.544218  0.632411       147\n",
            "      Negative   0.657856  0.696734  0.676737       643\n",
            "\n",
            "      accuracy                       0.658002      1962\n",
            "     macro avg   0.711989  0.521425  0.560021      1962\n",
            "  weighted avg   0.673240  0.658002  0.638060      1962\n",
            "\n"
          ]
        }
      ]
    },
    {
      "cell_type": "code",
      "metadata": {
        "colab": {
          "base_uri": "https://localhost:8080/"
        },
        "id": "k-ucCcstztRa",
        "outputId": "0efde726-1a97-429c-f51e-b828b7ca448e"
      },
      "source": [
        "# POLY SVM #\n",
        "poly_svm = Pipeline([('vect', CountVectorizer(min_df=3, max_df=0.2, analyzer='word', ngram_range=(1, 3),)),\n",
        "                        ('tfidf', TfidfTransformer()),\n",
        "                        ('poly_svc',\n",
        "                        SVC(kernel='poly',degree = 1))\n",
        "                        ])\n",
        "poly_svm.fit(X_train, y_train)\n",
        "y_pred = poly_svm.predict(X_test)\n",
        "\n",
        "utils.create_csv(y_pred, y_test, 'P-SVM')\n",
        "\n",
        "# prediction results\n",
        "utils.draw_prediction_results(y_pred,y_test,ourTags,\"POLY SVM\")"
      ],
      "execution_count": null,
      "outputs": [
        {
          "output_type": "stream",
          "name": "stdout",
          "text": [
            "accuracy of POLY SVM: 0.6620795107033639\n",
            "                precision    recall  f1-score   support\n",
            "\n",
            " not-malayalam   0.620000  0.231343  0.336957       134\n",
            " unknown_state   0.630058  0.422481  0.505800       258\n",
            "      Positive   0.667024  0.798718  0.726954       780\n",
            "Mixed_feelings   0.673913  0.632653  0.652632       147\n",
            "      Negative   0.664168  0.688958  0.676336       643\n",
            "\n",
            "      accuracy                       0.662080      1962\n",
            "     macro avg   0.651032  0.554831  0.579736      1962\n",
            "  weighted avg   0.658531  0.662080  0.649080      1962\n",
            "\n"
          ]
        }
      ]
    },
    {
      "cell_type": "code",
      "metadata": {
        "colab": {
          "base_uri": "https://localhost:8080/"
        },
        "id": "i5ovnOnrv6-Z",
        "outputId": "4da9e6f8-d50d-4ba0-d982-8b8d22da1110"
      },
      "source": [
        "# RANDOM FOREST #\n",
        "random_forest = Pipeline([('vect', CountVectorizer(min_df=3, max_df=0.2, analyzer='word', ngram_range=(1, 3),)),\n",
        "                        ('tfidf', TfidfTransformer()),\n",
        "                        ('random_forest',\n",
        "                         RandomForestClassifier())\n",
        "                        ])\n",
        "random_forest.fit(X_train, y_train)\n",
        "y_pred = random_forest.predict(X_test)\n",
        "\n",
        "utils.create_csv(y_pred, y_test, 'RF')\n",
        "\n",
        "# prediction results\n",
        "utils.draw_prediction_results(y_pred,y_test,ourTags,\"Random Forest\")"
      ],
      "execution_count": null,
      "outputs": [
        {
          "output_type": "stream",
          "name": "stdout",
          "text": [
            "accuracy of Random Forest: 0.6304791029561672\n",
            "                precision    recall  f1-score   support\n",
            "\n",
            " not-malayalam   0.567568  0.156716  0.245614       134\n",
            " unknown_state   0.623853  0.263566  0.370572       258\n",
            "      Positive   0.635611  0.787179  0.703322       780\n",
            "Mixed_feelings   0.600000  0.591837  0.595890       147\n",
            "      Negative   0.634043  0.695179  0.663205       643\n",
            "\n",
            "      accuracy                       0.630479      1962\n",
            "     macro avg   0.612215  0.498895  0.515721      1962\n",
            "  weighted avg   0.626235  0.630479  0.607109      1962\n",
            "\n"
          ]
        }
      ]
    },
    {
      "cell_type": "code",
      "metadata": {
        "colab": {
          "base_uri": "https://localhost:8080/"
        },
        "id": "s31N5aEL8rIu",
        "outputId": "58223d06-8dd0-4bb4-8aa9-6d7af860816f"
      },
      "source": [
        "# KNeighborsClassifier #\n",
        "knn = Pipeline([('vect', CountVectorizer(min_df=3, max_df=0.2, analyzer='word', ngram_range=(1, 3),)),\n",
        "                        ('tfidf', TfidfTransformer()),\n",
        "                        ('kNN', KNeighborsClassifier(n_neighbors=3))\n",
        "                        ])\n",
        "knn.fit(X_train, y_train)\n",
        "y_pred = knn.predict(X_test)\n",
        "\n",
        "utils.create_csv(y_pred, y_test, 'kNN')\n",
        "\n",
        "# prediction results\n",
        "utils.draw_prediction_results(y_pred,y_test,ourTags,\"KNeighborsClassifier\")"
      ],
      "execution_count": null,
      "outputs": [
        {
          "output_type": "stream",
          "name": "stdout",
          "text": [
            "accuracy of KNeighborsClassifier: 0.45871559633027525\n",
            "                precision    recall  f1-score   support\n",
            "\n",
            " not-malayalam   0.460317  0.216418  0.294416       134\n",
            " unknown_state   0.417476  0.166667  0.238227       258\n",
            "      Positive   0.634328  0.326923  0.431472       780\n",
            "Mixed_feelings   0.597701  0.353741  0.444444       147\n",
            "      Negative   0.398623  0.810264  0.534359       643\n",
            "\n",
            "      accuracy                       0.458716      1962\n",
            "     macro avg   0.501689  0.374803  0.388584      1962\n",
            "  weighted avg   0.513937  0.458716  0.431391      1962\n",
            "\n"
          ]
        }
      ]
    },
    {
      "cell_type": "code",
      "metadata": {
        "id": "Jc8SBEBsMeo8"
      },
      "source": [
        "from sklearn.ensemble import ExtraTreesClassifier\n",
        "from sklearn.ensemble import VotingClassifier\n",
        "from sklearn.ensemble import AdaBoostClassifier\n",
        "from xgboost import XGBClassifier\n",
        "from sklearn.ensemble import StackingClassifier"
      ],
      "execution_count": null,
      "outputs": []
    },
    {
      "cell_type": "code",
      "metadata": {
        "id": "Bm7FWo_vNqbS",
        "colab": {
          "base_uri": "https://localhost:8080/"
        },
        "outputId": "41212b04-add2-4495-d93d-1fde267dc25c"
      },
      "source": [
        "# EXTRA TREE CLASSIFIER #\n",
        "extra_tree = Pipeline([('vect', CountVectorizer(min_df=3, max_df=0.2, analyzer='word', ngram_range=(1, 3),)),\n",
        "                        ('tfidf', TfidfTransformer()),\n",
        "                        ('extra tree',\n",
        "                         ExtraTreesClassifier())\n",
        "                        ])\n",
        "extra_tree.fit(X_train, y_train)\n",
        "y_pred = extra_tree.predict(X_test)\n",
        "\n",
        "utils.create_csv(y_pred, y_test, 'XTree')\n",
        "\n",
        "# prediction results\n",
        "utils.draw_prediction_results(y_pred,y_test,ourTags,\"Extra Tree Classifier\")"
      ],
      "execution_count": null,
      "outputs": [
        {
          "output_type": "stream",
          "name": "stdout",
          "text": [
            "accuracy of Extra Tree Classifier: 0.6467889908256881\n",
            "                precision    recall  f1-score   support\n",
            "\n",
            " not-malayalam   0.600000  0.223881  0.326087       134\n",
            " unknown_state   0.610687  0.310078  0.411311       258\n",
            "      Positive   0.656748  0.792308  0.718187       780\n",
            "Mixed_feelings   0.584906  0.632653  0.607843       147\n",
            "      Negative   0.657856  0.696734  0.676737       643\n",
            "\n",
            "      accuracy                       0.646789      1962\n",
            "     macro avg   0.622039  0.531131  0.548033      1962\n",
            "  weighted avg   0.641796  0.646789  0.629202      1962\n",
            "\n"
          ]
        }
      ]
    },
    {
      "cell_type": "code",
      "metadata": {
        "colab": {
          "base_uri": "https://localhost:8080/"
        },
        "id": "mCP0liD9P5Mq",
        "outputId": "8cd96c34-244c-4e95-9273-7be2343c4caf"
      },
      "source": [
        "# VOTING CLASSIFIER #\n",
        "# ALL CLASSIFIERS #\n",
        "\n",
        "#create a dictionary of our models\n",
        "estimators=[(\"Linear SVM\", linear_svm), (\"Logistic Regression\", lrp), (\"Multinomial Naive Bayes\", multinomial_naive_bayes), (\"Extra Tree\", extra_tree), (\"Random Forest\", random_forest), (\"Poly SVM\", poly_svm), (\"RBF SVM\", rbf_svm), (\"KNeighborsClassifier\", knn)]\n",
        "\n",
        "hard_ensemble = VotingClassifier(estimators, voting=\"hard\")\n",
        "hard_ensemble.fit(X_train, y_train)\n",
        "y_pred = hard_ensemble.predict(X_test)\n",
        "\n",
        "utils.create_csv(y_pred, y_test, 'HEns')\n",
        "\n",
        "# prediction results\n",
        "utils.draw_prediction_results(y_pred,y_test,ourTags,\"Hard Ensemble\")"
      ],
      "execution_count": null,
      "outputs": [
        {
          "output_type": "stream",
          "name": "stdout",
          "text": [
            "accuracy of Hard Ensemble: 0.6625891946992865\n",
            "                precision    recall  f1-score   support\n",
            "\n",
            " not-malayalam   0.717949  0.208955  0.323699       134\n",
            " unknown_state   0.676056  0.372093  0.480000       258\n",
            "      Positive   0.648649  0.830769  0.728499       780\n",
            "Mixed_feelings   0.726496  0.578231  0.643939       147\n",
            "      Negative   0.666165  0.688958  0.677370       643\n",
            "\n",
            "      accuracy                       0.662589      1962\n",
            "     macro avg   0.687063  0.535801  0.570702      1962\n",
            "  weighted avg   0.668559  0.662589  0.645083      1962\n",
            "\n"
          ]
        }
      ]
    },
    {
      "cell_type": "code",
      "metadata": {
        "id": "UtugxjUBOlbA",
        "colab": {
          "base_uri": "https://localhost:8080/"
        },
        "outputId": "f2687b23-0364-4b84-c67e-edae7e84f705"
      },
      "source": [
        "# VOTING CLASSIFIER #\n",
        "# TOP 5 CLASSIFIERS #\n",
        "\n",
        "#create a dictionary of our models\n",
        "estimators=[(\"Linear SVM\", linear_svm), (\"Logistic Regression\", lrp),  (\"Random Forest\", random_forest), (\"Poly SVM\", poly_svm), (\"RBF SVM\", rbf_svm)]\n",
        "\n",
        "hard_ensemble = VotingClassifier(estimators, voting=\"hard\")\n",
        "hard_ensemble.fit(X_train, y_train)\n",
        "y_pred = hard_ensemble.predict(X_test)\n",
        "\n",
        "utils.create_csv(y_pred, y_test, 'HEns5')\n",
        "\n",
        "# prediction results\n",
        "utils.draw_prediction_results(y_pred,y_test,ourTags,\"Hard Ensemble\")"
      ],
      "execution_count": null,
      "outputs": [
        {
          "output_type": "stream",
          "name": "stdout",
          "text": [
            "accuracy of Hard Ensemble: 0.6636085626911316\n",
            "                precision    recall  f1-score   support\n",
            "\n",
            " not-malayalam   0.674419  0.216418  0.327684       134\n",
            " unknown_state   0.643750  0.399225  0.492823       258\n",
            "      Positive   0.661491  0.819231  0.731959       780\n",
            "Mixed_feelings   0.692308  0.612245  0.649819       147\n",
            "      Negative   0.665158  0.685848  0.675345       643\n",
            "\n",
            "      accuracy                       0.663609      1962\n",
            "     macro avg   0.667425  0.546593  0.575526      1962\n",
            "  weighted avg   0.663552  0.663609  0.648194      1962\n",
            "\n"
          ]
        }
      ]
    },
    {
      "cell_type": "code",
      "metadata": {
        "id": "E2WVBt7tQ0MA",
        "colab": {
          "base_uri": "https://localhost:8080/"
        },
        "outputId": "512f50f0-b0fa-4b09-a2f0-26d69c024f65"
      },
      "source": [
        "# VOTING CLASSIFIER #\n",
        "# TOP 3 CLASSIFIERS #\n",
        "\n",
        "#create a dictionary of our models\n",
        "estimators=[(\"Linear SVM\", linear_svm), (\"Logistic Regression\", lrp), (\"Poly SVM\", poly_svm)]\n",
        "\n",
        "hard_ensemble = VotingClassifier(estimators, voting=\"hard\")\n",
        "hard_ensemble.fit(X_train, y_train)\n",
        "y_pred = hard_ensemble.predict(X_test)\n",
        "\n",
        "utils.create_csv(y_pred, y_test, 'HEns3')\n",
        "\n",
        "# prediction results\n",
        "utils.draw_prediction_results(y_pred,y_test,ourTags,\"Hard Ensemble\")"
      ],
      "execution_count": null,
      "outputs": [
        {
          "output_type": "stream",
          "name": "stdout",
          "text": [
            "accuracy of Hard Ensemble: 0.6610601427115188\n",
            "                precision    recall  f1-score   support\n",
            "\n",
            " not-malayalam   0.620000  0.231343  0.336957       134\n",
            " unknown_state   0.626437  0.422481  0.504630       258\n",
            "      Positive   0.666310  0.798718  0.726531       780\n",
            "Mixed_feelings   0.673913  0.632653  0.652632       147\n",
            "      Negative   0.663158  0.685848  0.674312       643\n",
            "\n",
            "      accuracy                       0.661060      1962\n",
            "     macro avg   0.649964  0.554209  0.579012      1962\n",
            "  weighted avg   0.657441  0.661060  0.648094      1962\n",
            "\n"
          ]
        }
      ]
    },
    {
      "cell_type": "code",
      "metadata": {
        "id": "tevtGnJ6RIYh",
        "colab": {
          "base_uri": "https://localhost:8080/"
        },
        "outputId": "c09ed594-c098-42d5-a789-fca875c569ac"
      },
      "source": [
        "# VOTING CLASSIFIER #\n",
        "# BEST OF ALL CLASSIFIERS #\n",
        "\n",
        "#create a dictionary of our models\n",
        "estimators=[(\"Linear SVM\", linear_svm), (\"Logistic Regression\", lrp), (\"Multinomial Naive Bayes\", multinomial_naive_bayes), (\"Extra Tree\", extra_tree)]\n",
        "\n",
        "hard_ensemble = VotingClassifier(estimators, voting=\"hard\")\n",
        "hard_ensemble.fit(X_train, y_train)\n",
        "y_pred = hard_ensemble.predict(X_test)\n",
        "\n",
        "utils.create_csv(y_pred, y_test, 'HEnsA')\n",
        "\n",
        "# prediction results\n",
        "utils.draw_prediction_results(y_pred,y_test,ourTags,\"Hard Ensemble\")"
      ],
      "execution_count": null,
      "outputs": [
        {
          "output_type": "stream",
          "name": "stdout",
          "text": [
            "accuracy of Hard Ensemble: 0.6636085626911316\n",
            "                precision    recall  f1-score   support\n",
            "\n",
            " not-malayalam   0.638889  0.171642  0.270588       134\n",
            " unknown_state   0.668790  0.406977  0.506024       258\n",
            "      Positive   0.644315  0.850000  0.733002       780\n",
            "Mixed_feelings   0.733945  0.544218  0.625000       147\n",
            "      Negative   0.683043  0.670295  0.676609       643\n",
            "\n",
            "      accuracy                       0.663609      1962\n",
            "     macro avg   0.673796  0.528626  0.562245      1962\n",
            "  weighted avg   0.666570  0.663609  0.644999      1962\n",
            "\n"
          ]
        }
      ]
    },
    {
      "cell_type": "code",
      "metadata": {
        "id": "OrvYzJMSSl2H",
        "colab": {
          "base_uri": "https://localhost:8080/"
        },
        "outputId": "57a25e74-64cd-4904-b72b-219d5a46b57d"
      },
      "source": [
        "# ADABOOST #\n",
        "#seed = 10\n",
        "num_trees = 25\n",
        "\n",
        "ada_boost = Pipeline([('vect', CountVectorizer(min_df=3, max_df=0.2, analyzer='word', ngram_range=(1, 3),)),\n",
        "                        ('tfidf', TfidfTransformer()),\n",
        "                        ('ada_boost',\n",
        "                         AdaBoostClassifier(n_estimators=num_trees))\n",
        "                        ])\n",
        "ada_boost.fit(X_train, y_train)\n",
        "y_pred = ada_boost.predict(X_test)\n",
        "\n",
        "utils.create_csv(y_pred, y_test, 'AdaB')\n",
        "\n",
        "# prediction results\n",
        "utils.draw_prediction_results(y_pred,y_test,ourTags,\"Ada Boost\")"
      ],
      "execution_count": null,
      "outputs": [
        {
          "output_type": "stream",
          "name": "stdout",
          "text": [
            "accuracy of Ada Boost: 0.4694189602446483\n",
            "                precision    recall  f1-score   support\n",
            "\n",
            " not-malayalam   0.391304  0.067164  0.114650       134\n",
            " unknown_state   0.657143  0.089147  0.156997       258\n",
            "      Positive   0.452364  0.821795  0.583523       780\n",
            "Mixed_feelings   0.450704  0.217687  0.293578       147\n",
            "      Negative   0.519231  0.335925  0.407932       643\n",
            "\n",
            "      accuracy                       0.469419      1962\n",
            "     macro avg   0.494149  0.306344  0.311336      1962\n",
            "  weighted avg   0.496912  0.469419  0.416143      1962\n",
            "\n"
          ]
        }
      ]
    },
    {
      "cell_type": "code",
      "metadata": {
        "id": "ai2QQGdioGlJ",
        "colab": {
          "base_uri": "https://localhost:8080/"
        },
        "outputId": "0679b50b-7a6d-4200-e144-98933add37e2"
      },
      "source": [
        "# XGBOOST #\n",
        "xg_boost = Pipeline([('vect', CountVectorizer(min_df=3, max_df=0.2, analyzer='word', ngram_range=(1, 3),)),\n",
        "                        ('tfidf', TfidfTransformer()),\n",
        "                        ('xgboost',\n",
        "                         XGBClassifier(learning_rate =0.1,\n",
        " n_estimators=1000,\n",
        " max_depth=5,\n",
        " min_child_weight=1,\n",
        " gamma=0,\n",
        " subsample=0.8,\n",
        " colsample_bytree=0.8,\n",
        " nthread=4,\n",
        " scale_pos_weight=1,\n",
        " seed=27))\n",
        "])\n",
        "xg_boost.fit(X_train, y_train)\n",
        "y_pred = xg_boost.predict(X_test)\n",
        "\n",
        "utils.create_csv(y_pred, y_test, 'XGB')\n",
        "\n",
        "# prediction results\n",
        "utils.draw_prediction_results(y_pred,y_test,ourTags,\"XGBoost\")"
      ],
      "execution_count": null,
      "outputs": [
        {
          "output_type": "stream",
          "name": "stdout",
          "text": [
            "accuracy of XGBoost: 0.6320081549439348\n",
            "                precision    recall  f1-score   support\n",
            "\n",
            " not-malayalam   0.583333  0.261194  0.360825       134\n",
            " unknown_state   0.550633  0.337209  0.418269       258\n",
            "      Positive   0.653631  0.750000  0.698507       780\n",
            "Mixed_feelings   0.643411  0.564626  0.601449       147\n",
            "      Negative   0.625000  0.699844  0.660308       643\n",
            "\n",
            "      accuracy                       0.632008      1962\n",
            "     macro avg   0.611202  0.522575  0.547872      1962\n",
            "  weighted avg   0.625137  0.632008  0.618803      1962\n",
            "\n"
          ]
        }
      ]
    }
  ]
}